{
 "cells": [
  {
   "cell_type": "markdown",
   "metadata": {},
   "source": [
    "# Store Sales - Time Series Forecasting\n",
    "\n",
    "Introducción\n",
    "En este proyecto, utilizaremos técnicas de predicción de series de tiempo para estimar el volumen de ventas de diversas familias de productos en diferentes tiendas de la Corporación Favorita, una cadena de supermercados en Ecuador. El objetivo principal es construir un modelo que pueda predecir con precisión las ventas unitarias de productos para un período de 15 días después de la última fecha en los datos de entrenamiento. Este tipo de predicciones es crucial para optimizar la gestión del inventario, evitando el exceso de stock o la falta de productos, lo cual puede afectar tanto las ganancias como la satisfacción del cliente.\n",
    "\n",
    "Para lograr este objetivo, contamos con un conjunto de datos diverso que incluye información sobre tiendas, promociones, eventos y días festivos, así como el precio del petróleo, dado el impacto que tiene en la economía ecuatoriana. El modelo será evaluado utilizando la métrica Root Mean Squared Logarithmic Error (RMSLE), la cual se ajusta bien a los problemas de predicción donde los valores pueden variar en magnitud. A lo largo de este notebook, realizaremos un análisis exploratorio de los datos, seleccionaremos las características más relevantes y construiremos un modelo de predicción basado en machine learning."
   ]
  },
  {
   "cell_type": "code",
   "execution_count": 94,
   "metadata": {},
   "outputs": [],
   "source": [
    "# Apartado para importar librerias necesarias\n",
    "import pandas as pd\n",
    "import numpy as np\n",
    "import matplotlib.pyplot as plt\n",
    "import seaborn as sns"
   ]
  },
  {
   "cell_type": "markdown",
   "metadata": {},
   "source": [
    "## EDA"
   ]
  },
  {
   "cell_type": "markdown",
   "metadata": {},
   "source": [
    "El Análisis Exploratorio de Datos (EDA) es un paso fundamental en cualquier proyecto de ciencia de datos, ya que nos permite comprender mejor la estructura, las relaciones y los patrones en el conjunto de datos. En esta sección, exploraremos las características clave de los datos, tales como las tendencias de ventas a lo largo del tiempo, la influencia de las promociones, los patrones estacionales y los posibles efectos de eventos externos como días festivos o cambios en el precio del petróleo. Además, examinaremos la distribución de las ventas por tiendas y familias de productos, lo que nos ayudará a identificar posibles outliers o irregularidades que podrían afectar la calidad de nuestras predicciones.\n",
    "\n",
    "### train.csv"
   ]
  },
  {
   "cell_type": "markdown",
   "metadata": {},
   "source": [
    "#### Analisis Descriptivo"
   ]
  },
  {
   "cell_type": "code",
   "execution_count": 95,
   "metadata": {},
   "outputs": [
    {
     "data": {
      "text/html": [
       "<div>\n",
       "<style scoped>\n",
       "    .dataframe tbody tr th:only-of-type {\n",
       "        vertical-align: middle;\n",
       "    }\n",
       "\n",
       "    .dataframe tbody tr th {\n",
       "        vertical-align: top;\n",
       "    }\n",
       "\n",
       "    .dataframe thead th {\n",
       "        text-align: right;\n",
       "    }\n",
       "</style>\n",
       "<table border=\"1\" class=\"dataframe\">\n",
       "  <thead>\n",
       "    <tr style=\"text-align: right;\">\n",
       "      <th></th>\n",
       "      <th>id</th>\n",
       "      <th>date</th>\n",
       "      <th>store_nbr</th>\n",
       "      <th>family</th>\n",
       "      <th>sales</th>\n",
       "      <th>onpromotion</th>\n",
       "    </tr>\n",
       "  </thead>\n",
       "  <tbody>\n",
       "    <tr>\n",
       "      <th>0</th>\n",
       "      <td>0</td>\n",
       "      <td>2013-01-01</td>\n",
       "      <td>1</td>\n",
       "      <td>AUTOMOTIVE</td>\n",
       "      <td>0.0</td>\n",
       "      <td>0</td>\n",
       "    </tr>\n",
       "    <tr>\n",
       "      <th>1</th>\n",
       "      <td>1</td>\n",
       "      <td>2013-01-01</td>\n",
       "      <td>1</td>\n",
       "      <td>BABY CARE</td>\n",
       "      <td>0.0</td>\n",
       "      <td>0</td>\n",
       "    </tr>\n",
       "    <tr>\n",
       "      <th>2</th>\n",
       "      <td>2</td>\n",
       "      <td>2013-01-01</td>\n",
       "      <td>1</td>\n",
       "      <td>BEAUTY</td>\n",
       "      <td>0.0</td>\n",
       "      <td>0</td>\n",
       "    </tr>\n",
       "    <tr>\n",
       "      <th>3</th>\n",
       "      <td>3</td>\n",
       "      <td>2013-01-01</td>\n",
       "      <td>1</td>\n",
       "      <td>BEVERAGES</td>\n",
       "      <td>0.0</td>\n",
       "      <td>0</td>\n",
       "    </tr>\n",
       "    <tr>\n",
       "      <th>4</th>\n",
       "      <td>4</td>\n",
       "      <td>2013-01-01</td>\n",
       "      <td>1</td>\n",
       "      <td>BOOKS</td>\n",
       "      <td>0.0</td>\n",
       "      <td>0</td>\n",
       "    </tr>\n",
       "  </tbody>\n",
       "</table>\n",
       "</div>"
      ],
      "text/plain": [
       "   id        date  store_nbr      family  sales  onpromotion\n",
       "0   0  2013-01-01          1  AUTOMOTIVE    0.0            0\n",
       "1   1  2013-01-01          1   BABY CARE    0.0            0\n",
       "2   2  2013-01-01          1      BEAUTY    0.0            0\n",
       "3   3  2013-01-01          1   BEVERAGES    0.0            0\n",
       "4   4  2013-01-01          1       BOOKS    0.0            0"
      ]
     },
     "execution_count": 95,
     "metadata": {},
     "output_type": "execute_result"
    }
   ],
   "source": [
    "# Importamos los datos\n",
    "train_data = pd.read_csv('data/train.csv')\n",
    "train_data.head()"
   ]
  },
  {
   "cell_type": "code",
   "execution_count": 96,
   "metadata": {},
   "outputs": [
    {
     "name": "stdout",
     "output_type": "stream",
     "text": [
      "<class 'pandas.core.frame.DataFrame'>\n",
      "RangeIndex: 3000888 entries, 0 to 3000887\n",
      "Data columns (total 6 columns):\n",
      " #   Column       Dtype  \n",
      "---  ------       -----  \n",
      " 0   id           int64  \n",
      " 1   date         object \n",
      " 2   store_nbr    int64  \n",
      " 3   family       object \n",
      " 4   sales        float64\n",
      " 5   onpromotion  int64  \n",
      "dtypes: float64(1), int64(3), object(2)\n",
      "memory usage: 137.4+ MB\n"
     ]
    }
   ],
   "source": [
    "# Mostramos la informacion general del dataset\n",
    "train_data.info()"
   ]
  },
  {
   "cell_type": "code",
   "execution_count": 97,
   "metadata": {},
   "outputs": [],
   "source": [
    "# Convertimos la columna date en tipo fecha\n",
    "train_data['date'] = pd.to_datetime(train_data['date'])"
   ]
  },
  {
   "cell_type": "code",
   "execution_count": 98,
   "metadata": {},
   "outputs": [],
   "source": [
    "# Atomizamos un poco mas la variable fecha\n",
    "train_data['year'] = train_data['date'].dt.year\n",
    "train_data['month'] = train_data['date'].dt.month\n",
    "train_data['day'] = train_data['date'].dt.day\n",
    "train_data['day_of_week'] = train_data['date'].dt.day_name()"
   ]
  },
  {
   "cell_type": "code",
   "execution_count": 99,
   "metadata": {},
   "outputs": [
    {
     "name": "stdout",
     "output_type": "stream",
     "text": [
      "<class 'pandas.core.frame.DataFrame'>\n",
      "RangeIndex: 3000888 entries, 0 to 3000887\n",
      "Data columns (total 10 columns):\n",
      " #   Column       Dtype         \n",
      "---  ------       -----         \n",
      " 0   id           int64         \n",
      " 1   date         datetime64[ns]\n",
      " 2   store_nbr    int64         \n",
      " 3   family       object        \n",
      " 4   sales        float64       \n",
      " 5   onpromotion  int64         \n",
      " 6   year         int32         \n",
      " 7   month        int32         \n",
      " 8   day          int32         \n",
      " 9   day_of_week  object        \n",
      "dtypes: datetime64[ns](1), float64(1), int32(3), int64(3), object(2)\n",
      "memory usage: 194.6+ MB\n"
     ]
    }
   ],
   "source": [
    "train_data.info()"
   ]
  },
  {
   "cell_type": "code",
   "execution_count": 100,
   "metadata": {},
   "outputs": [
    {
     "data": {
      "text/html": [
       "<div>\n",
       "<style scoped>\n",
       "    .dataframe tbody tr th:only-of-type {\n",
       "        vertical-align: middle;\n",
       "    }\n",
       "\n",
       "    .dataframe tbody tr th {\n",
       "        vertical-align: top;\n",
       "    }\n",
       "\n",
       "    .dataframe thead th {\n",
       "        text-align: right;\n",
       "    }\n",
       "</style>\n",
       "<table border=\"1\" class=\"dataframe\">\n",
       "  <thead>\n",
       "    <tr style=\"text-align: right;\">\n",
       "      <th></th>\n",
       "      <th>id</th>\n",
       "      <th>date</th>\n",
       "      <th>store_nbr</th>\n",
       "      <th>sales</th>\n",
       "      <th>onpromotion</th>\n",
       "      <th>year</th>\n",
       "      <th>month</th>\n",
       "      <th>day</th>\n",
       "    </tr>\n",
       "  </thead>\n",
       "  <tbody>\n",
       "    <tr>\n",
       "      <th>count</th>\n",
       "      <td>3.000888e+06</td>\n",
       "      <td>3000888</td>\n",
       "      <td>3.000888e+06</td>\n",
       "      <td>3.000888e+06</td>\n",
       "      <td>3.000888e+06</td>\n",
       "      <td>3.000888e+06</td>\n",
       "      <td>3.000888e+06</td>\n",
       "      <td>3.000888e+06</td>\n",
       "    </tr>\n",
       "    <tr>\n",
       "      <th>mean</th>\n",
       "      <td>1.500444e+06</td>\n",
       "      <td>2015-04-24 08:27:04.703088384</td>\n",
       "      <td>2.750000e+01</td>\n",
       "      <td>3.577757e+02</td>\n",
       "      <td>2.602770e+00</td>\n",
       "      <td>2.014838e+03</td>\n",
       "      <td>6.207838e+00</td>\n",
       "      <td>1.563005e+01</td>\n",
       "    </tr>\n",
       "    <tr>\n",
       "      <th>min</th>\n",
       "      <td>0.000000e+00</td>\n",
       "      <td>2013-01-01 00:00:00</td>\n",
       "      <td>1.000000e+00</td>\n",
       "      <td>0.000000e+00</td>\n",
       "      <td>0.000000e+00</td>\n",
       "      <td>2.013000e+03</td>\n",
       "      <td>1.000000e+00</td>\n",
       "      <td>1.000000e+00</td>\n",
       "    </tr>\n",
       "    <tr>\n",
       "      <th>25%</th>\n",
       "      <td>7.502218e+05</td>\n",
       "      <td>2014-02-26 18:00:00</td>\n",
       "      <td>1.400000e+01</td>\n",
       "      <td>0.000000e+00</td>\n",
       "      <td>0.000000e+00</td>\n",
       "      <td>2.014000e+03</td>\n",
       "      <td>3.000000e+00</td>\n",
       "      <td>8.000000e+00</td>\n",
       "    </tr>\n",
       "    <tr>\n",
       "      <th>50%</th>\n",
       "      <td>1.500444e+06</td>\n",
       "      <td>2015-04-24 12:00:00</td>\n",
       "      <td>2.750000e+01</td>\n",
       "      <td>1.100000e+01</td>\n",
       "      <td>0.000000e+00</td>\n",
       "      <td>2.015000e+03</td>\n",
       "      <td>6.000000e+00</td>\n",
       "      <td>1.600000e+01</td>\n",
       "    </tr>\n",
       "    <tr>\n",
       "      <th>75%</th>\n",
       "      <td>2.250665e+06</td>\n",
       "      <td>2016-06-19 06:00:00</td>\n",
       "      <td>4.100000e+01</td>\n",
       "      <td>1.958473e+02</td>\n",
       "      <td>0.000000e+00</td>\n",
       "      <td>2.016000e+03</td>\n",
       "      <td>9.000000e+00</td>\n",
       "      <td>2.300000e+01</td>\n",
       "    </tr>\n",
       "    <tr>\n",
       "      <th>max</th>\n",
       "      <td>3.000887e+06</td>\n",
       "      <td>2017-08-15 00:00:00</td>\n",
       "      <td>5.400000e+01</td>\n",
       "      <td>1.247170e+05</td>\n",
       "      <td>7.410000e+02</td>\n",
       "      <td>2.017000e+03</td>\n",
       "      <td>1.200000e+01</td>\n",
       "      <td>3.100000e+01</td>\n",
       "    </tr>\n",
       "    <tr>\n",
       "      <th>std</th>\n",
       "      <td>8.662819e+05</td>\n",
       "      <td>NaN</td>\n",
       "      <td>1.558579e+01</td>\n",
       "      <td>1.101998e+03</td>\n",
       "      <td>1.221888e+01</td>\n",
       "      <td>1.345518e+00</td>\n",
       "      <td>3.385668e+00</td>\n",
       "      <td>8.794789e+00</td>\n",
       "    </tr>\n",
       "  </tbody>\n",
       "</table>\n",
       "</div>"
      ],
      "text/plain": [
       "                 id                           date     store_nbr  \\\n",
       "count  3.000888e+06                        3000888  3.000888e+06   \n",
       "mean   1.500444e+06  2015-04-24 08:27:04.703088384  2.750000e+01   \n",
       "min    0.000000e+00            2013-01-01 00:00:00  1.000000e+00   \n",
       "25%    7.502218e+05            2014-02-26 18:00:00  1.400000e+01   \n",
       "50%    1.500444e+06            2015-04-24 12:00:00  2.750000e+01   \n",
       "75%    2.250665e+06            2016-06-19 06:00:00  4.100000e+01   \n",
       "max    3.000887e+06            2017-08-15 00:00:00  5.400000e+01   \n",
       "std    8.662819e+05                            NaN  1.558579e+01   \n",
       "\n",
       "              sales   onpromotion          year         month           day  \n",
       "count  3.000888e+06  3.000888e+06  3.000888e+06  3.000888e+06  3.000888e+06  \n",
       "mean   3.577757e+02  2.602770e+00  2.014838e+03  6.207838e+00  1.563005e+01  \n",
       "min    0.000000e+00  0.000000e+00  2.013000e+03  1.000000e+00  1.000000e+00  \n",
       "25%    0.000000e+00  0.000000e+00  2.014000e+03  3.000000e+00  8.000000e+00  \n",
       "50%    1.100000e+01  0.000000e+00  2.015000e+03  6.000000e+00  1.600000e+01  \n",
       "75%    1.958473e+02  0.000000e+00  2.016000e+03  9.000000e+00  2.300000e+01  \n",
       "max    1.247170e+05  7.410000e+02  2.017000e+03  1.200000e+01  3.100000e+01  \n",
       "std    1.101998e+03  1.221888e+01  1.345518e+00  3.385668e+00  8.794789e+00  "
      ]
     },
     "execution_count": 100,
     "metadata": {},
     "output_type": "execute_result"
    }
   ],
   "source": [
    "# Describimos las variables numericas y las fechas\n",
    "train_data.describe(include=['int64', 'int32', 'float64', 'datetime'])"
   ]
  },
  {
   "cell_type": "code",
   "execution_count": 101,
   "metadata": {},
   "outputs": [
    {
     "data": {
      "text/plain": [
       "count        3000888\n",
       "unique            33\n",
       "top       AUTOMOTIVE\n",
       "freq           90936\n",
       "Name: family, dtype: object"
      ]
     },
     "execution_count": 101,
     "metadata": {},
     "output_type": "execute_result"
    }
   ],
   "source": [
    "# Describimos las variables cualitativas\n",
    "train_data.family.describe()"
   ]
  },
  {
   "cell_type": "code",
   "execution_count": 102,
   "metadata": {},
   "outputs": [
    {
     "data": {
      "text/plain": [
       "id             0\n",
       "date           0\n",
       "store_nbr      0\n",
       "family         0\n",
       "sales          0\n",
       "onpromotion    0\n",
       "year           0\n",
       "month          0\n",
       "day            0\n",
       "day_of_week    0\n",
       "dtype: int64"
      ]
     },
     "execution_count": 102,
     "metadata": {},
     "output_type": "execute_result"
    }
   ],
   "source": [
    "# Comprobamos si no hay valores nulos\n",
    "train_data.isnull().sum()"
   ]
  },
  {
   "cell_type": "markdown",
   "metadata": {},
   "source": [
    "Con base en el análisis descriptivo del archivo train.csv, se observa que el conjunto de datos contiene 3,000,888 entradas y seis columnas sin valores nulos, lo cual indica que los datos están completos. La variable id es un identificador único para cada observación. La variable date abarca desde el 1 de enero de 2013 hasta el 15 de agosto de 2017, lo que cubre más de cuatro años de datos. La columna store_nbr identifica 54 tiendas diferentes, mientras que la variable family agrupa los productos en 33 categorías, siendo \"AUTOMOTIVE\" la familia con más observaciones. En cuanto a las ventas (sales), se reportan tanto valores fraccionarios como enteros, con un valor promedio de 3.58 unidades vendidas y un rango que varía desde 0 hasta un máximo de 124,717 unidades en un solo día. Finalmente, la columna onpromotion indica que, en promedio, 26 productos por tienda estaban en promoción, con un valor máximo de 741 productos en promoción en un día determinado."
   ]
  },
  {
   "cell_type": "markdown",
   "metadata": {},
   "source": [
    "#### Variable \"date\""
   ]
  },
  {
   "cell_type": "code",
   "execution_count": 103,
   "metadata": {},
   "outputs": [],
   "source": [
    "# Observaciones por mes de cada año\n",
    "datos_por_anio = train_data.groupby(by=['year', 'month']).size().unstack()"
   ]
  },
  {
   "cell_type": "code",
   "execution_count": 104,
   "metadata": {},
   "outputs": [
    {
     "data": {
      "text/plain": [
       "<Figure size 500x800 with 0 Axes>"
      ]
     },
     "metadata": {},
     "output_type": "display_data"
    },
    {
     "data": {
      "image/png": "[encoded data removed]",
      "text/plain": [
       "<Figure size 1200x400 with 1 Axes>"
      ]
     },
     "metadata": {},
     "output_type": "display_data"
    }
   ],
   "source": [
    "# Mostramos las observaciones por anio\n",
    "plt.figure(figsize=(5,8))\n",
    "\n",
    "# Crear el gráfico de barras\n",
    "datos_por_anio.plot(kind='bar', figsize=(12, 4), title='Observaciones por Mes para Cada Año')\n",
    "plt.xlabel('Año')\n",
    "plt.ylabel('Cantidad de Observaciones')\n",
    "plt.legend(loc='best')\n",
    "plt.show()"
   ]
  },
  {
   "cell_type": "markdown",
   "metadata": {},
   "source": [
    "Con base en el análisis de la variable date, se determinó que los datos están en una resolución diaria. Aunque se observaron múltiples registros dentro de un mismo día, estos no corresponden a diferentes horas, ya que todos los registros tienen la hora establecida en \"0\". Esto sugiere que la granularidad temporal del dataset se limita a días completos, con diferentes observaciones dentro de cada día que probablemente representen distintas combinaciones de productos, tiendas o promociones. Por lo tanto, el análisis temporal deberá enfocarse en tendencias y patrones diarios, tales como la evolución de las ventas a lo largo del tiempo y la influencia de factores estacionales o eventos especiales."
   ]
  },
  {
   "cell_type": "markdown",
   "metadata": {},
   "source": [
    "#### Variable \"store_nbr\""
   ]
  },
  {
   "cell_type": "code",
   "execution_count": 110,
   "metadata": {},
   "outputs": [
    {
     "data": {
      "text/plain": [
       "array([ 1, 10, 11, 12, 13, 14, 15, 16, 17, 18, 19,  2, 20, 21, 22, 23, 24,\n",
       "       25, 26, 27, 28, 29,  3, 30, 31, 32, 33, 34, 35, 36, 37, 38, 39,  4,\n",
       "       40, 41, 42, 43, 44, 45, 46, 47, 48, 49,  5, 50, 51, 52, 53, 54,  6,\n",
       "        7,  8,  9])"
      ]
     },
     "execution_count": 110,
     "metadata": {},
     "output_type": "execute_result"
    }
   ],
   "source": [
    "# Vemos los valores unicos de la variable\n",
    "train_data.store_nbr.unique()"
   ]
  }
 ],
 "metadata": {
  "kernelspec": {
   "display_name": "base",
   "language": "python",
   "name": "python3"
  },
  "language_info": {
   "codemirror_mode": {
    "name": "ipython",
    "version": 3
   },
   "file_extension": ".py",
   "mimetype": "text/x-python",
   "name": "python",
   "nbconvert_exporter": "python",
   "pygments_lexer": "ipython3",
   "version": "3.11.7"
  }
 },
 "nbformat": 4,
 "nbformat_minor": 2
}
